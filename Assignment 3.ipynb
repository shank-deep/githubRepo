{
 "cells": [
  {
   "cell_type": "code",
   "execution_count": 1,
   "id": "5d4215e7",
   "metadata": {},
   "outputs": [
    {
     "name": "stdout",
     "output_type": "stream",
     "text": [
      "enter the value of a: 3\n",
      "a is positive\n"
     ]
    }
   ],
   "source": [
    "#1.\tWrite a Python Program to Check if a Number is Positive, Negative or Zero?\n",
    "\n",
    "a = int(input(\"enter the value of a: \"))\n",
    "\n",
    "if a> 0:\n",
    "    print(\"a is positive\")\n",
    "    \n",
    "elif a<0:\n",
    "    print(\"a is negative\")\n",
    "        \n",
    "else:\n",
    "    print(\"a is zero\")\n",
    "    "
   ]
  },
  {
   "cell_type": "code",
   "execution_count": 2,
   "id": "1b159e14",
   "metadata": {},
   "outputs": [
    {
     "name": "stdout",
     "output_type": "stream",
     "text": [
      "enter the value of a: -4\n",
      "a is negative\n"
     ]
    }
   ],
   "source": [
    "a = int(input(\"enter the value of a: \"))\n",
    "\n",
    "if a> 0:\n",
    "    print(\"a is positive\")\n",
    "    \n",
    "elif a<0:\n",
    "    print(\"a is negative\")\n",
    "        \n",
    "else:\n",
    "    print(\"a is zero\")"
   ]
  },
  {
   "cell_type": "code",
   "execution_count": 3,
   "id": "03ae4849",
   "metadata": {},
   "outputs": [
    {
     "name": "stdout",
     "output_type": "stream",
     "text": [
      "enter the value of a: 0\n",
      "a is zero\n"
     ]
    }
   ],
   "source": [
    "a = int(input(\"enter the value of a: \"))\n",
    "\n",
    "if a> 0:\n",
    "    print(\"a is positive\")\n",
    "    \n",
    "elif a<0:\n",
    "    print(\"a is negative\")\n",
    "        \n",
    "else:\n",
    "    print(\"a is zero\")"
   ]
  },
  {
   "cell_type": "code",
   "execution_count": 4,
   "id": "81460a02",
   "metadata": {},
   "outputs": [
    {
     "name": "stdout",
     "output_type": "stream",
     "text": [
      "enter the value of number a: 6\n",
      "a is Even\n"
     ]
    }
   ],
   "source": [
    "#2.\tWrite a Python Program to Check if a Number is Odd or Even?\n",
    "\n",
    "a = int(input(\"enter the value of number a: \"))\n",
    "\n",
    "if a % 2 ==0:\n",
    "    print(\"a is Even\")\n",
    "    \n",
    "else:\n",
    "    print(\"a is odd\")"
   ]
  },
  {
   "cell_type": "code",
   "execution_count": 5,
   "id": "c472b15d",
   "metadata": {},
   "outputs": [
    {
     "name": "stdout",
     "output_type": "stream",
     "text": [
      "enter the value of number a: 3\n",
      "a is odd\n"
     ]
    }
   ],
   "source": [
    "a = int(input(\"enter the value of number a: \"))\n",
    "\n",
    "if a % 2 ==0:\n",
    "    print(\"a is Even\")\n",
    "    \n",
    "else:\n",
    "    print(\"a is odd\")"
   ]
  },
  {
   "cell_type": "code",
   "execution_count": 6,
   "id": "52c043d0",
   "metadata": {},
   "outputs": [
    {
     "name": "stdout",
     "output_type": "stream",
     "text": [
      "enter the value of year a: 1900\n",
      "a is not Leap year\n"
     ]
    }
   ],
   "source": [
    "#3.\tWrite a Python Program to Check Leap Year?\n",
    "\n",
    "a = int(input(\"enter the value of year a: \"))\n",
    "\n",
    "if a % 400 ==0  or a %100 != 0 and a % 4==0:\n",
    "    print(\"a is Leap year\")\n",
    "    \n",
    "else:\n",
    "    print(\"a is not Leap year\")"
   ]
  },
  {
   "cell_type": "code",
   "execution_count": 7,
   "id": "c745a62a",
   "metadata": {},
   "outputs": [
    {
     "name": "stdout",
     "output_type": "stream",
     "text": [
      "enter the value of year a: 2012\n",
      "a is Leap year\n"
     ]
    }
   ],
   "source": [
    "a = int(input(\"enter the value of year a: \"))\n",
    "\n",
    "if a % 400 ==0  or a %100 != 0 and a % 4==0:\n",
    "    print(\"a is Leap year\")\n",
    "    \n",
    "else:\n",
    "    print(\"a is not Leap year\")"
   ]
  },
  {
   "cell_type": "code",
   "execution_count": 8,
   "id": "78b5d77a",
   "metadata": {},
   "outputs": [
    {
     "name": "stdout",
     "output_type": "stream",
     "text": [
      "enter the value of num:5\n"
     ]
    }
   ],
   "source": [
    "#4.\tWrite a Python Program to Check Prime Number?\n",
    "\n",
    "num = int(input(\"enter the value of num:\"))\n",
    "\n",
    "if num ==1:\n",
    "    print (num,\"is not a prime number\")\n",
    "elif num >1:\n",
    "    for i in range (2,num):\n",
    "        if (num%i) == 0:\n",
    "            print(num,\"is a prime number\")         \n",
    "else:\n",
    "    print(num,\"num is not prime\")"
   ]
  },
  {
   "cell_type": "code",
   "execution_count": 9,
   "id": "bc22d389",
   "metadata": {},
   "outputs": [
    {
     "name": "stdout",
     "output_type": "stream",
     "text": [
      "enter the value of lowest_value:1\n",
      "enter the value of highest_value:1000\n",
      "prime number in the range are: \n"
     ]
    }
   ],
   "source": [
    "#5.\tWrite a Python Program to Print all Prime Numbers in an Interval of 1-10000?\n",
    "\n",
    "lowest_value= int(input(\"enter the value of lowest_value:\"))\n",
    "highest_value= int(input(\"enter the value of highest_value:\"))\n",
    "\n",
    "print(\"prime number in the range are: \")\n",
    "for num in range (lowest_value,highest_value+1):\n",
    "    if num >1:\n",
    "        for i in range (2,num):\n",
    "            if (num % i) == 0:\n",
    "                break\n",
    "                print(num)\n",
    "            "
   ]
  },
  {
   "cell_type": "code",
   "execution_count": null,
   "id": "fe40b1c3",
   "metadata": {},
   "outputs": [],
   "source": []
  },
  {
   "cell_type": "code",
   "execution_count": null,
   "id": "bf419777",
   "metadata": {},
   "outputs": [],
   "source": []
  },
  {
   "cell_type": "code",
   "execution_count": null,
   "id": "2a869070",
   "metadata": {},
   "outputs": [],
   "source": []
  }
 ],
 "metadata": {
  "kernelspec": {
   "display_name": "Python 3 (ipykernel)",
   "language": "python",
   "name": "python3"
  },
  "language_info": {
   "codemirror_mode": {
    "name": "ipython",
    "version": 3
   },
   "file_extension": ".py",
   "mimetype": "text/x-python",
   "name": "python",
   "nbconvert_exporter": "python",
   "pygments_lexer": "ipython3",
   "version": "3.11.3"
  }
 },
 "nbformat": 4,
 "nbformat_minor": 5
}
