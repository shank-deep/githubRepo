{
 "cells": [
  {
   "cell_type": "code",
   "execution_count": 1,
   "id": "7358fbe8",
   "metadata": {},
   "outputs": [
    {
     "name": "stdout",
     "output_type": "stream",
     "text": [
      "Enter the value in Kilometer: 10\n",
      "6.213699999999999\n"
     ]
    }
   ],
   "source": [
    "#1.\tWrite a Python program to convert kilometers to miles?\n",
    "\n",
    "Num1 = int(input(\"Enter the value in Kilometer: \"))\n",
    "\n",
    "# Conversion ratio from Km to miles\n",
    "#1 km = 0.62137 miles\n",
    "ratio = 0.62137\n",
    "\n",
    "# converting km into miles\n",
    "mile = Num1*ratio\n",
    "\n",
    "print(mile)"
   ]
  },
  {
   "cell_type": "code",
   "execution_count": 2,
   "id": "30c37ec7",
   "metadata": {},
   "outputs": [
    {
     "name": "stdout",
     "output_type": "stream",
     "text": [
      "Enter the value in Celsius: 10\n",
      "50.0\n"
     ]
    }
   ],
   "source": [
    "#2.\tWrite a Python program to convert Celsius to Fahrenheit?\n",
    "\n",
    "Celcius_1= int(input(\"Enter the value in Celsius: \"))\n",
    "\n",
    "#Converstion ratio from Celcius to fahrehite\n",
    "#(F-32)/9= C/5    # F= fahrenhote\n",
    "F=Celcius_1*1.8 +32\n",
    "\n",
    "print(F)"
   ]
  },
  {
   "cell_type": "code",
   "execution_count": 4,
   "id": "aeb2ada0",
   "metadata": {},
   "outputs": [
    {
     "name": "stdout",
     "output_type": "stream",
     "text": [
      "enter the year: 1999\n",
      "enter the month: 11\n",
      "   November 1999\n",
      "Mo Tu We Th Fr Sa Su\n",
      " 1  2  3  4  5  6  7\n",
      " 8  9 10 11 12 13 14\n",
      "15 16 17 18 19 20 21\n",
      "22 23 24 25 26 27 28\n",
      "29 30\n",
      "\n"
     ]
    }
   ],
   "source": [
    "#3.\tWrite a Python program to display calendar?\n",
    "\n",
    "import calendar\n",
    "\n",
    "#Enter month and year\n",
    "yy= int(input(\"enter the year: \"))\n",
    "mm= int(input(\"enter the month: \"))\n",
    "\n",
    "print(calendar.month(yy,mm))"
   ]
  },
  {
   "cell_type": "code",
   "execution_count": 8,
   "id": "bebc1278",
   "metadata": {},
   "outputs": [
    {
     "name": "stdout",
     "output_type": "stream",
     "text": [
      "enter value of a: 1\n",
      "enter value of b: 2\n",
      "enter value of c: 3\n",
      "(-1+1.4142135623730951j) (-1-1.4142135623730951j)\n"
     ]
    }
   ],
   "source": [
    "#4.\tWrite a Python program to solve quadratic equation?\n",
    "\n",
    "import cmath\n",
    "\n",
    "#ax2+2bx+c\n",
    "#ax2+bx+bx+c\n",
    "#x=(-b+-sq.rt.b2-4ac)/2a\n",
    "\n",
    "a= int(input(\"enter value of a: \"))\n",
    "b= int(input(\"enter value of b: \"))\n",
    "c= int(input(\"enter value of c: \"))\n",
    "\n",
    "#descriminant = d\n",
    "d=b**2 -4*a*c\n",
    "\n",
    "Sol1= (-b+cmath.sqrt(d))/2*a\n",
    "Sol2= (-b-cmath.sqrt(d))/2*a\n",
    "\n",
    "print(Sol1,Sol2)"
   ]
  },
  {
   "cell_type": "code",
   "execution_count": 10,
   "id": "a1f6a2eb",
   "metadata": {},
   "outputs": [
    {
     "name": "stdout",
     "output_type": "stream",
     "text": [
      "Enter value of P: 10\n",
      "Enter value of Q: 20\n",
      "20\n",
      "10\n"
     ]
    }
   ],
   "source": [
    "#5.\tWrite a Python program to swap two variables without temp variable?\n",
    "\n",
    "P= int(input(\"Enter value of P: \"))\n",
    "Q= int(input(\"Enter value of Q: \"))\n",
    "\n",
    "P,Q=Q,P\n",
    "\n",
    "print(P)\n",
    "print(Q)"
   ]
  },
  {
   "cell_type": "code",
   "execution_count": null,
   "id": "8fad1117",
   "metadata": {},
   "outputs": [],
   "source": []
  },
  {
   "cell_type": "code",
   "execution_count": null,
   "id": "aca4b215",
   "metadata": {},
   "outputs": [],
   "source": []
  },
  {
   "cell_type": "code",
   "execution_count": null,
   "id": "0bd86334",
   "metadata": {},
   "outputs": [],
   "source": []
  }
 ],
 "metadata": {
  "kernelspec": {
   "display_name": "Python 3 (ipykernel)",
   "language": "python",
   "name": "python3"
  },
  "language_info": {
   "codemirror_mode": {
    "name": "ipython",
    "version": 3
   },
   "file_extension": ".py",
   "mimetype": "text/x-python",
   "name": "python",
   "nbconvert_exporter": "python",
   "pygments_lexer": "ipython3",
   "version": "3.11.3"
  }
 },
 "nbformat": 4,
 "nbformat_minor": 5
}
